{
  "nbformat": 4,
  "nbformat_minor": 0,
  "metadata": {
    "colab": {
      "provenance": [],
      "gpuType": "T4"
    },
    "kernelspec": {
      "name": "python3",
      "display_name": "Python 3"
    },
    "language_info": {
      "name": "python"
    },
    "accelerator": "GPU"
  },
  "cells": [
    {
      "cell_type": "code",
      "execution_count": 1,
      "metadata": {
        "id": "qj5SiL3wF7Gl"
      },
      "outputs": [],
      "source": [
        "from __future__ import absolute_import,division,print_function\n",
        "import tensorflow as tf\n",
        "import numpy as np\n",
        "import matplotlib.pyplot as plt"
      ]
    },
    {
      "cell_type": "code",
      "source": [
        "#MNIST dataset parameters\n",
        "num_cls = 10 #total class (0 to 9 digits)\n",
        "num_features = 784 #data feature in our input(28*28 = 784)  28 Pixel\n",
        "\n",
        "#training param\n",
        "learning_rate = 0.001\n",
        "training_steps = 3000\n",
        "batch_size = 256\n",
        "display_step = 100\n",
        "\n",
        "#neural network param\n",
        "n_hidden_1 = 128 #number of neurons in 1st layer\n",
        "n_hidden_2 = 256 #number of neurons in 1st layer"
      ],
      "metadata": {
        "id": "b149YDrEIl_O"
      },
      "execution_count": 2,
      "outputs": []
    },
    {
      "cell_type": "code",
      "source": [
        "#Import dataset\n",
        "from tensorflow.keras.datasets import mnist\n",
        "\n",
        "(x_train,y_train),(x_test,y_test) = mnist.load_data()\n",
        "\n",
        "#convert to float\n",
        "x_train,x_test = np.array(x_train,dtype=np.float32),np.array(x_test,dtype=np.float32)\n",
        "\n",
        "#Flatten images to 1D from 2D\n",
        "x_train,x_test = x_train.reshape([-1,num_features]) , x_test.reshape([-1,num_features])\n",
        "\n",
        "#Convert the values (0 To 1)\n",
        "x_train = x_train/255.\n",
        "x_test = x_test/255."
      ],
      "metadata": {
        "id": "WGrYo8GEJA58",
        "colab": {
          "base_uri": "https://localhost:8080/"
        },
        "outputId": "72f10496-74e9-4f59-a199-7767a581a2f4"
      },
      "execution_count": 3,
      "outputs": [
        {
          "output_type": "stream",
          "name": "stdout",
          "text": [
            "Downloading data from https://storage.googleapis.com/tensorflow/tf-keras-datasets/mnist.npz\n",
            "\u001b[1m11490434/11490434\u001b[0m \u001b[32m━━━━━━━━━━━━━━━━━━━━\u001b[0m\u001b[37m\u001b[0m \u001b[1m0s\u001b[0m 0us/step\n"
          ]
        }
      ]
    },
    {
      "cell_type": "code",
      "source": [
        "#Use tf.data API to shuffle and batch data\n",
        "train_data = tf.data.Dataset.from_tensor_slices((x_train,y_train))\n",
        "train_data = train_data.repeat().shuffle(5000).batch(batch_size).prefetch(1)"
      ],
      "metadata": {
        "id": "JOFD-gFQMP_z"
      },
      "execution_count": 4,
      "outputs": []
    },
    {
      "cell_type": "code",
      "source": [
        "#Store layers weights and bias\n",
        "#A random number genarator to initilize weights\n",
        "\n",
        "random_normal = tf.initializers.RandomNormal()\n",
        "weights = {\n",
        "    \"h1\" : tf.Variable(random_normal([num_features,n_hidden_1])),\n",
        "    \"h2\" : tf.Variable(random_normal([n_hidden_1,n_hidden_2])),\n",
        "    \"out\" : tf.Variable(random_normal([n_hidden_2,num_cls]))\n",
        "}\n",
        "\n",
        "bias = {\n",
        "    \"b1\" : tf.Variable(random_normal([n_hidden_1,1])),\n",
        "    \"b2\" : tf.Variable(random_normal([n_hidden_2,1])),\n",
        "    \"out\" : tf.Variable(random_normal([num_cls,1]))\n",
        "}"
      ],
      "metadata": {
        "id": "6pKMfGs388Yh"
      },
      "execution_count": 5,
      "outputs": []
    },
    {
      "cell_type": "code",
      "source": [
        "print(weights[\"h1\"].shape)"
      ],
      "metadata": {
        "colab": {
          "base_uri": "https://localhost:8080/"
        },
        "id": "cGDuNGBOCmu5",
        "outputId": "c5900de6-c503-4101-cab7-ea68ace9517c"
      },
      "execution_count": 6,
      "outputs": [
        {
          "output_type": "stream",
          "name": "stdout",
          "text": [
            "(784, 128)\n"
          ]
        }
      ]
    },
    {
      "cell_type": "code",
      "source": [
        "def neural_net(x):\n",
        "  #Hidden fully connected layer with 128 neuron\"\n",
        "  layer_1 = tf.add(tf.matmul(x,weights[\"h1\"]),tf.transpose(bias[\"b1\"]))  #Z1\n",
        "  #apply sigmoid to layer_1 output for non linearlity\n",
        "  layer_1 = tf.nn.sigmoid(layer_1)\n",
        "\n",
        "  #Hidden fully connected layer with 128 neuron\"\n",
        "  layer_2 = tf.add(tf.matmul(layer_1,weights[\"h2\"]),tf.transpose(bias[\"b2\"]))\n",
        "  #apply sigmoid to layer_2 output for non linearlity\n",
        "  layer_2 = tf.nn.sigmoid(layer_2)\n",
        "\n",
        "  #Output fully connected layer with each layer\"\n",
        "  out_layer = tf.add(tf.matmul(layer_2,weights[\"out\"]),tf.transpose(bias[\"out\"]))\n",
        "  #Final A.v is logits(soft max)  highest probability is the answer\n",
        "  out_layer = tf.nn.softmax(out_layer)\n",
        "\n",
        "  return out_layer"
      ],
      "metadata": {
        "id": "5Glv6F7MCyZf"
      },
      "execution_count": 21,
      "outputs": []
    },
    {
      "cell_type": "code",
      "source": [
        "def cross_entropy(y_pred,y_true):\n",
        "  #encode lable to a one hot vector\n",
        "  y_true = tf.one_hot(y_true,depth = num_cls) #Make 10(num_clas) size array\n",
        "\n",
        "  #CLip prediction values to avoid log(0) error\n",
        "  y_pred = tf.clip_by_value                            (y_pred,1e-9,1.)  #Remove the zero values\n",
        "  #compute cross entropy loss\n",
        "  return tf.reduce_mean(-tf.reduce_sum(y_true * tf.math.log(y_pred)))\n"
      ],
      "metadata": {
        "id": "Q8pZhetCIDvp"
      },
      "execution_count": 8,
      "outputs": []
    },
    {
      "cell_type": "code",
      "source": [
        "#Accuracy metrics\n",
        "def accuracy(y_pred,y_true):\n",
        "  correct_prediction = tf.equal(tf.argmax(y_pred,1),tf.cast(y_true,tf.int64))\n",
        "  return tf.reduce_mean(tf.cast(correct_prediction,tf.float32,-1))\n",
        "\n",
        "#Stochastic gradient descent optimizer\n",
        "optimizer = tf.optimizers.SGD(learning_rate)"
      ],
      "metadata": {
        "id": "gl_o1So9J8Q4"
      },
      "execution_count": 9,
      "outputs": []
    },
    {
      "cell_type": "code",
      "source": [
        "#optimizing process\n",
        "def run_optimization(batch_x,batch_y):\n",
        "  with tf.GradientTape() as g:\n",
        "    pred = neural_net(batch_x)\n",
        "    loss = cross_entropy(pred,batch_y)\n",
        "\n",
        "  trainable_variables = list(weights.values()) + list(bias.values())\n",
        "  gradients = g.gradient(loss,trainable_variables)\n",
        "  optimizer.apply_gradients(zip(gradients,trainable_variables))\n",
        "\n"
      ],
      "metadata": {
        "id": "FcrbE5aELgyy"
      },
      "execution_count": 18,
      "outputs": []
    },
    {
      "cell_type": "code",
      "source": [
        "#Run training for the given number of steps\n",
        "for step,(batch_x,batch_y) in enumerate(train_data.take(training_steps),1):\n",
        "  run_optimization(batch_x,batch_y)\n",
        "\n",
        "  if step % display_step == 0:\n",
        "    pred = neural_net(batch_x)\n",
        "    loss = cross_entropy(pred,batch_y)\n",
        "    acc = accuracy(pred,batch_y)\n",
        "\n",
        "    print(f\"Step:{step} Loss:{loss} Accuracy:{acc}\")"
      ],
      "metadata": {
        "colab": {
          "base_uri": "https://localhost:8080/"
        },
        "id": "PJcWfbIjTdHK",
        "outputId": "9368f9f7-db20-4085-89b8-4da24bb47cf2"
      },
      "execution_count": 26,
      "outputs": [
        {
          "output_type": "stream",
          "name": "stdout",
          "text": [
            "Step:100 Loss:26.40932273864746 Accuracy:0.97265625\n",
            "Step:200 Loss:26.782060623168945 Accuracy:0.95703125\n",
            "Step:300 Loss:27.354482650756836 Accuracy:0.97265625\n",
            "Step:400 Loss:21.427331924438477 Accuracy:0.97265625\n",
            "Step:500 Loss:19.8438720703125 Accuracy:0.9765625\n",
            "Step:600 Loss:22.84473419189453 Accuracy:0.9765625\n",
            "Step:700 Loss:17.125732421875 Accuracy:0.98046875\n",
            "Step:800 Loss:22.324560165405273 Accuracy:0.96484375\n",
            "Step:900 Loss:29.63164520263672 Accuracy:0.96484375\n",
            "Step:1000 Loss:32.981788635253906 Accuracy:0.96484375\n",
            "Step:1100 Loss:25.354019165039062 Accuracy:0.96484375\n",
            "Step:1200 Loss:18.847572326660156 Accuracy:0.984375\n",
            "Step:1300 Loss:30.463411331176758 Accuracy:0.9609375\n",
            "Step:1400 Loss:25.20450210571289 Accuracy:0.98046875\n",
            "Step:1500 Loss:23.817651748657227 Accuracy:0.98046875\n",
            "Step:1600 Loss:34.482513427734375 Accuracy:0.953125\n",
            "Step:1700 Loss:18.298038482666016 Accuracy:0.98046875\n",
            "Step:1800 Loss:38.37412643432617 Accuracy:0.95703125\n",
            "Step:1900 Loss:18.814180374145508 Accuracy:0.9765625\n",
            "Step:2000 Loss:25.674251556396484 Accuracy:0.96875\n",
            "Step:2100 Loss:21.240127563476562 Accuracy:0.97265625\n",
            "Step:2200 Loss:22.393369674682617 Accuracy:0.9765625\n",
            "Step:2300 Loss:40.16702651977539 Accuracy:0.9609375\n",
            "Step:2400 Loss:17.42525863647461 Accuracy:0.984375\n",
            "Step:2500 Loss:17.018312454223633 Accuracy:0.9921875\n",
            "Step:2600 Loss:11.807188987731934 Accuracy:0.9921875\n",
            "Step:2700 Loss:12.697522163391113 Accuracy:0.9921875\n",
            "Step:2800 Loss:15.925235748291016 Accuracy:0.984375\n",
            "Step:2900 Loss:14.032785415649414 Accuracy:0.984375\n",
            "Step:3000 Loss:21.17782211303711 Accuracy:0.9765625\n"
          ]
        }
      ]
    },
    {
      "cell_type": "code",
      "source": [
        "#Test mode on validations set\n",
        "pred = neural_net(x_test)\n",
        "print(f\"Accuracy: {accuracy(pred,y_test)}\")"
      ],
      "metadata": {
        "colab": {
          "base_uri": "https://localhost:8080/"
        },
        "id": "JgN0QwZBJRn8",
        "outputId": "f50a7788-6267-430e-c6af-707543372f29"
      },
      "execution_count": 27,
      "outputs": [
        {
          "output_type": "stream",
          "name": "stdout",
          "text": [
            "Accuracy: 0.9690999984741211\n"
          ]
        }
      ]
    },
    {
      "cell_type": "code",
      "source": [
        "#Predict 5 image from the test set\n",
        "import matplotlib.pyplot as plt\n",
        "n_image = 5\n",
        "test_image = x_test[:5]\n",
        "y_pred = neural_net(test_image)\n",
        "\n",
        "for i in range(n_image):\n",
        "  print(f\"Model Prediction: {tf.argmax(y_pred.numpy()[i])}\")\n",
        "  plt.imshow(np.reshape(test_image[i],newshape=[28,28]))\n",
        "  plt.show()"
      ],
      "metadata": {
        "colab": {
          "base_uri": "https://localhost:8080/",
          "height": 1000
        },
        "id": "zyscq9bFKlpw",
        "outputId": "53e290f2-f07d-46e2-ffd1-5ff160d1f33c"
      },
      "execution_count": 28,
      "outputs": [
        {
          "output_type": "stream",
          "name": "stdout",
          "text": [
            "Model Prediction: 7\n"
          ]
        },
        {
          "output_type": "display_data",
          "data": {
            "text/plain": [
              "<Figure size 640x480 with 1 Axes>"
            ],
            "image/png": "[encoded data removed]"
          },
          "metadata": {}
        },
        {
          "output_type": "stream",
          "name": "stdout",
          "text": [
            "Model Prediction: 2\n"
          ]
        },
        {
          "output_type": "display_data",
          "data": {
            "text/plain": [
              "<Figure size 640x480 with 1 Axes>"
            ],
            "image/png": "[encoded data removed]"
          },
          "metadata": {}
        },
        {
          "output_type": "stream",
          "name": "stdout",
          "text": [
            "Model Prediction: 1\n"
          ]
        },
        {
          "output_type": "display_data",
          "data": {
            "text/plain": [
              "<Figure size 640x480 with 1 Axes>"
            ],
            "image/png": "[encoded data removed]"
          },
          "metadata": {}
        },
        {
          "output_type": "stream",
          "name": "stdout",
          "text": [
            "Model Prediction: 0\n"
          ]
        },
        {
          "output_type": "display_data",
          "data": {
            "text/plain": [
              "<Figure size 640x480 with 1 Axes>"
            ],
            "image/png": "[encoded data removed]"
          },
          "metadata": {}
        },
        {
          "output_type": "stream",
          "name": "stdout",
          "text": [
            "Model Prediction: 4\n"
          ]
        },
        {
          "output_type": "display_data",
          "data": {
            "text/plain": [
              "<Figure size 640x480 with 1 Axes>"
            ],
            "image/png": "[encoded data removed]"
          },
          "metadata": {}
        }
      ]
    }
  ]
}